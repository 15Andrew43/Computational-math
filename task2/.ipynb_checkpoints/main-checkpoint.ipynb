{
 "cells": [
  {
   "cell_type": "code",
   "execution_count": 1,
   "metadata": {},
   "outputs": [],
   "source": [
    "import numpy as np\n",
    "\n"
   ]
  },
  {
   "cell_type": "code",
   "execution_count": 4,
   "metadata": {},
   "outputs": [
    {
     "name": "stdout",
     "output_type": "stream",
     "text": [
      "[  6300. -11000.  -6880.]\n",
      "[  6294.29942015 -10998.74221485  -6876.88847301]\n",
      "\n",
      "[-2.00000000e+01 -1.00000000e+02 -1.00000000e+03 ... -2.84393178e-01\n",
      "  1.52966730e-01  1.64122206e-01]\n"
     ]
    }
   ],
   "source": [
    "\n",
    "def solve(A, b, max_n_iters, tol):\n",
    "    it = 1\n",
    "    n = A.shape[0]\n",
    "    xk = np.zeros(n)\n",
    "    grads = np.array([])\n",
    "\n",
    "    while np.linalg.norm(A @ xk - b) > tol and it < max_n_iters:\n",
    "        grad = A @ xk - b\n",
    "        grads = np.append(grads, grad)\n",
    "        step = np.dot(grad, grad) / np.dot((A @ grad), grad)\n",
    "        xk -= step * grad / 10\n",
    "        it += 1\n",
    "\n",
    "    return xk, grads\n",
    "\n",
    "\n",
    "# def Print(Q, R, S, real_solution):\n",
    "#     print(f\"Q = \\n{Q},\\n R = \\n{R},\\n solution = {S},\\nreal solution = \\n{real_solution}\\n\\n\\n\")\n",
    "\n",
    "if __name__ == '__main__':\n",
    "\n",
    "    A = np.array([\n",
    "            [1/17, 1/51, 1/51],\n",
    "            [1/17, -5/51, 10/51],\n",
    "            [-4/17, 1/51, -20/51]\n",
    "    ])\n",
    "    b = np.array([20, 100, 1000])\n",
    "\n",
    "    tol = 0.0001\n",
    "    max_n_iter = 1000\n",
    "\n",
    "    real_solution = np.linalg.solve(A, b)\n",
    "    print(real_solution)\n",
    "    sol, grads = solve(A, b, max_n_iter, tol)\n",
    "\n",
    "    print(sol)\n",
    "    print()\n",
    "    print(grads)\n",
    "\n"
   ]
  },
  {
   "cell_type": "code",
   "execution_count": null,
   "metadata": {},
   "outputs": [],
   "source": []
  }
 ],
 "metadata": {
  "kernelspec": {
   "display_name": "Python 3",
   "language": "python",
   "name": "python3"
  },
  "language_info": {
   "codemirror_mode": {
    "name": "ipython",
    "version": 3
   },
   "file_extension": ".py",
   "mimetype": "text/x-python",
   "name": "python",
   "nbconvert_exporter": "python",
   "pygments_lexer": "ipython3",
   "version": "3.8.8"
  }
 },
 "nbformat": 4,
 "nbformat_minor": 4
}
