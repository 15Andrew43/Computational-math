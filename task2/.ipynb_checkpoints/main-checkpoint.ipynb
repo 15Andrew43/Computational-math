{
 "cells": [
  {
   "cell_type": "code",
   "execution_count": 282,
   "metadata": {},
   "outputs": [],
   "source": [
    "import numpy as np\n",
    "import matplotlib.pyplot as plt"
   ]
  },
  {
   "cell_type": "code",
   "execution_count": 303,
   "metadata": {},
   "outputs": [],
   "source": [
    "def solve(A, b, max_iter=1000, tol=1e-5, method='grad'):\n",
    "    n = b.shape\n",
    "    x = np.zeros(n)\n",
    "    \n",
    "    grad = A @ x - b\n",
    "    norm = np.linalg.norm(grad)\n",
    "    grads = np.array([norm])\n",
    "    iter = 0\n",
    "    \n",
    "    while iter < max_iter and norm > tol:\n",
    "        step = 0\n",
    "        Ar = A @ grad\n",
    "        \n",
    "        if method == 'grad':\n",
    "            step = np.dot(grad, grad) / np.dot(Ar, grad)\n",
    "        elif method == 'res':\n",
    "            step = np.dot(Ar, grad) / np.dot(Ar, Ar)\n",
    "        else:\n",
    "            raise ValueError('wrong method')\n",
    "        \n",
    "        x = x - step * grad\n",
    "        \n",
    "        grad = grad - step * Ar\n",
    "        norm = np.linalg.norm(grad)\n",
    "        grads = np.append(grads, norm)\n",
    "        \n",
    "        iter += 1\n",
    "    \n",
    "    return x, grads\n",
    "        "
   ]
  },
  {
   "cell_type": "code",
   "execution_count": 304,
   "metadata": {},
   "outputs": [],
   "source": [
    "def is_pos_def(x):\n",
    "    return np.all(np.linalg.eigvals(x) > 0)"
   ]
  },
  {
   "cell_type": "code",
   "execution_count": 305,
   "metadata": {},
   "outputs": [
    {
     "data": {
      "text/plain": [
       "True"
      ]
     },
     "execution_count": 305,
     "metadata": {},
     "output_type": "execute_result"
    }
   ],
   "source": [
    "np.random.seed(1)\n",
    "\n",
    "n = 120\n",
    "\n",
    "A = np.random.randn(n, n)\n",
    "A = A.T @ A\n",
    "\n",
    "b = np.random.rand(n)\n",
    "\n",
    "is_pos_def(A)"
   ]
  },
  {
   "cell_type": "code",
   "execution_count": 309,
   "metadata": {},
   "outputs": [
    {
     "name": "stdout",
     "output_type": "stream",
     "text": [
      "Итерационный способ:\n",
      "CPU times: user 87.3 ms, sys: 2.66 ms, total: 89.9 ms\n",
      "Wall time: 57 ms\n",
      "Точное решение с помощью встроенной функции:\n",
      "CPU times: user 446 µs, sys: 4 µs, total: 450 µs\n",
      "Wall time: 227 µs\n"
     ]
    },
    {
     "data": {
      "text/plain": [
       "array([6.37655395, 6.3581098 , 4.19909134, ..., 0.8504648 , 1.04833451,\n",
       "       0.85008897])"
      ]
     },
     "execution_count": 309,
     "metadata": {},
     "output_type": "execute_result"
    }
   ],
   "source": [
    "print('Итерационный способ:')\n",
    "%time x, grads = solve(A, b)\n",
    "print('Точное решение с помощью встроенной функции:')\n",
    "%time real_solution = np.linalg.solve(A, b)\n",
    "grads"
   ]
  },
  {
   "cell_type": "code",
   "execution_count": null,
   "metadata": {},
   "outputs": [],
   "source": []
  },
  {
   "cell_type": "raw",
   "metadata": {},
   "source": []
  },
  {
   "cell_type": "code",
   "execution_count": 307,
   "metadata": {},
   "outputs": [
    {
     "name": "stdout",
     "output_type": "stream",
     "text": [
      "число итераций: 1001\n",
      "ошибка: 32.06414795842829\n"
     ]
    }
   ],
   "source": [
    "print(f'число итераций: {len(grads)}')\n",
    "print(f'ошибка: {np.linalg.norm(real_solution - x)}')"
   ]
  },
  {
   "cell_type": "code",
   "execution_count": 308,
   "metadata": {},
   "outputs": [
    {
     "data": {
      "image/png": "[encoded data removed]",
      "text/plain": [
       "<Figure size 432x288 with 1 Axes>"
      ]
     },
     "metadata": {
      "needs_background": "light"
     },
     "output_type": "display_data"
    }
   ],
   "source": [
    "plt.plot(\n",
    "    np.log(grads),\n",
    "    np.arange(len(grads))\n",
    ")\n",
    "\n",
    "plt.xlabel('')\n",
    "\n",
    "plt.show()"
   ]
  },
  {
   "cell_type": "code",
   "execution_count": null,
   "metadata": {},
   "outputs": [],
   "source": []
  },
  {
   "cell_type": "code",
   "execution_count": null,
   "metadata": {},
   "outputs": [],
   "source": []
  }
 ],
 "metadata": {
  "kernelspec": {
   "display_name": "Python 3",
   "language": "python",
   "name": "python3"
  },
  "language_info": {
   "codemirror_mode": {
    "name": "ipython",
    "version": 3
   },
   "file_extension": ".py",
   "mimetype": "text/x-python",
   "name": "python",
   "nbconvert_exporter": "python",
   "pygments_lexer": "ipython3",
   "version": "3.8.8"
  }
 },
 "nbformat": 4,
 "nbformat_minor": 4
}
